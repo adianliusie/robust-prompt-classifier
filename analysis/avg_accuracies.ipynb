{
 "cells": [
  {
   "cell_type": "code",
   "execution_count": 24,
   "metadata": {},
   "outputs": [
    {
     "name": "stdout",
     "output_type": "stream",
     "text": [
      "The autoreload extension is already loaded. To reload it, use:\n",
      "  %reload_ext autoreload\n"
     ]
    }
   ],
   "source": [
    "%load_ext autoreload\n",
    "%autoreload 2"
   ]
  },
  {
   "cell_type": "code",
   "execution_count": 25,
   "metadata": {},
   "outputs": [],
   "source": [
    "import numpy as np\n",
    "from collections import defaultdict\n",
    "from logits_reader import LogitsReader\n",
    "\n",
    "def get_avg_acc_table(dataset):\n",
    "    base_path = f\"/home/al826/rds/hpc-work/2023/prompts/calib/search/submit/outputs/flan-t5-large\"\n",
    "\n",
    "    #calculate all accuracies\n",
    "    all_prompt_outputs = []\n",
    "    for prompt_num in range(0,6):\n",
    "        path = f\"{base_path}/{dataset}/prompt_{prompt_num}\"\n",
    "        logits_reader = LogitsReader(path=path, dataset=dataset)\n",
    "        prompt_outputs = logits_reader.label_words_box_plot_data(prompt_num=prompt_num)\n",
    "        all_prompt_outputs += prompt_outputs\n",
    "    \n",
    "    #print out individual methods average accuracy and standard deviations\n",
    "    methods = defaultdict(list)\n",
    "    for ex in all_prompt_outputs:\n",
    "        methods[ex['probs']].append(ex['acc'])\n",
    "    for k, v in methods.items():\n",
    "        print(k, round(np.mean(v), 1), round(np.std(v), 1))\n"
   ]
  },
  {
   "cell_type": "code",
   "execution_count": 26,
   "metadata": {},
   "outputs": [
    {
     "name": "stdout",
     "output_type": "stream",
     "text": [
      "qqp\n",
      "initial error in qqp- switching labels\n"
     ]
    },
    {
     "name": "stderr",
     "output_type": "stream",
     "text": [
      "  0%|                                                                         | 0/25 [00:00<?, ?it/s]\n",
      "100%|████████████████████████████████████████████████████████████████| 1/1 [00:00<00:00, 1653.91it/s]\u001b[A\n",
      "100%|████████████████████████████████████████████████████████████████| 25/25 [00:34<00:00,  1.37s/it]\n"
     ]
    },
    {
     "name": "stdout",
     "output_type": "stream",
     "text": [
      "qqp\n",
      "initial error in qqp- switching labels\n"
     ]
    },
    {
     "name": "stderr",
     "output_type": "stream",
     "text": [
      "  0%|                                                                         | 0/25 [00:00<?, ?it/s]\n",
      "100%|█████████████████████████████████████████████████████████████████| 1/1 [00:00<00:00, 746.45it/s]\u001b[A\n",
      "100%|████████████████████████████████████████████████████████████████| 25/25 [00:33<00:00,  1.35s/it]\n"
     ]
    },
    {
     "name": "stdout",
     "output_type": "stream",
     "text": [
      "qqp\n",
      "initial error in qqp- switching labels\n"
     ]
    },
    {
     "name": "stderr",
     "output_type": "stream",
     "text": [
      "  0%|                                                                         | 0/25 [00:00<?, ?it/s]\n",
      "100%|████████████████████████████████████████████████████████████████| 1/1 [00:00<00:00, 1072.44it/s]\u001b[A\n",
      "100%|████████████████████████████████████████████████████████████████| 25/25 [00:34<00:00,  1.38s/it]\n"
     ]
    },
    {
     "name": "stdout",
     "output_type": "stream",
     "text": [
      "qqp\n",
      "initial error in qqp- switching labels\n"
     ]
    },
    {
     "name": "stderr",
     "output_type": "stream",
     "text": [
      "  0%|                                                                         | 0/25 [00:00<?, ?it/s]\n",
      "100%|█████████████████████████████████████████████████████████████████| 1/1 [00:00<00:00, 711.62it/s]\u001b[A\n",
      "100%|████████████████████████████████████████████████████████████████| 25/25 [00:34<00:00,  1.39s/it]\n"
     ]
    },
    {
     "name": "stdout",
     "output_type": "stream",
     "text": [
      "qqp\n",
      "initial error in qqp- switching labels\n"
     ]
    },
    {
     "name": "stderr",
     "output_type": "stream",
     "text": [
      "  0%|                                                                         | 0/25 [00:00<?, ?it/s]\n",
      "100%|█████████████████████████████████████████████████████████████████| 1/1 [00:00<00:00, 688.27it/s]\u001b[A\n",
      "100%|████████████████████████████████████████████████████████████████| 25/25 [00:33<00:00,  1.34s/it]\n"
     ]
    },
    {
     "name": "stdout",
     "output_type": "stream",
     "text": [
      "qqp\n",
      "initial error in qqp- switching labels\n"
     ]
    },
    {
     "name": "stderr",
     "output_type": "stream",
     "text": [
      "  0%|                                                                         | 0/25 [00:00<?, ?it/s]\n",
      "100%|█████████████████████████████████████████████████████████████████| 1/1 [00:00<00:00, 625.74it/s]\u001b[A\n",
      "100%|████████████████████████████████████████████████████████████████| 25/25 [00:33<00:00,  1.34s/it]"
     ]
    },
    {
     "name": "stdout",
     "output_type": "stream",
     "text": [
      "baseline 65.4 14.0\n",
      "null-norm 77.4 6.6\n",
      "marg-norm 78.3 2.5\n",
      "unbiased 79.1 2.4\n",
      "optimal 82.3 2.8\n"
     ]
    },
    {
     "name": "stderr",
     "output_type": "stream",
     "text": [
      "\n"
     ]
    }
   ],
   "source": [
    "get_avg_acc_table('mrpc')"
   ]
  },
  {
   "cell_type": "code",
   "execution_count": 27,
   "metadata": {},
   "outputs": [
    {
     "name": "stdout",
     "output_type": "stream",
     "text": [
      "initial error in qqp- switching labels\n"
     ]
    },
    {
     "name": "stderr",
     "output_type": "stream",
     "text": [
      "  0%|                                                                         | 0/25 [00:00<?, ?it/s]\n",
      "100%|█████████████████████████████████████████████████████████████████| 1/1 [00:00<00:00, 692.13it/s]\u001b[A\n",
      "100%|████████████████████████████████████████████████████████████████| 25/25 [00:18<00:00,  1.37it/s]\n"
     ]
    },
    {
     "name": "stdout",
     "output_type": "stream",
     "text": [
      "initial error in qqp- switching labels\n"
     ]
    },
    {
     "name": "stderr",
     "output_type": "stream",
     "text": [
      "  0%|                                                                         | 0/25 [00:00<?, ?it/s]\n",
      "100%|█████████████████████████████████████████████████████████████████| 1/1 [00:00<00:00, 684.56it/s]\u001b[A\n",
      "100%|████████████████████████████████████████████████████████████████| 25/25 [00:30<00:00,  1.23s/it]\n"
     ]
    },
    {
     "name": "stdout",
     "output_type": "stream",
     "text": [
      "initial error in qqp- switching labels\n"
     ]
    },
    {
     "name": "stderr",
     "output_type": "stream",
     "text": [
      "  0%|                                                                         | 0/25 [00:00<?, ?it/s]\n",
      "100%|████████████████████████████████████████████████████████████████| 1/1 [00:00<00:00, 1269.08it/s]\u001b[A\n",
      "100%|████████████████████████████████████████████████████████████████| 25/25 [00:16<00:00,  1.52it/s]\n"
     ]
    },
    {
     "name": "stdout",
     "output_type": "stream",
     "text": [
      "initial error in qqp- switching labels\n"
     ]
    },
    {
     "name": "stderr",
     "output_type": "stream",
     "text": [
      "  0%|                                                                         | 0/25 [00:00<?, ?it/s]\n",
      "100%|█████████████████████████████████████████████████████████████████| 1/1 [00:00<00:00, 650.78it/s]\u001b[A\n",
      "100%|████████████████████████████████████████████████████████████████| 25/25 [00:15<00:00,  1.58it/s]\n"
     ]
    },
    {
     "name": "stdout",
     "output_type": "stream",
     "text": [
      "initial error in qqp- switching labels\n"
     ]
    },
    {
     "name": "stderr",
     "output_type": "stream",
     "text": [
      "  0%|                                                                         | 0/25 [00:00<?, ?it/s]\n",
      "100%|████████████████████████████████████████████████████████████████| 1/1 [00:00<00:00, 2067.18it/s]\u001b[A\n",
      "100%|████████████████████████████████████████████████████████████████| 25/25 [00:15<00:00,  1.62it/s]\n"
     ]
    },
    {
     "name": "stdout",
     "output_type": "stream",
     "text": [
      "initial error in qqp- switching labels\n"
     ]
    },
    {
     "name": "stderr",
     "output_type": "stream",
     "text": [
      "  0%|                                                                         | 0/25 [00:00<?, ?it/s]\n",
      "100%|█████████████████████████████████████████████████████████████████| 1/1 [00:00<00:00, 660.62it/s]\u001b[A\n",
      "100%|████████████████████████████████████████████████████████████████| 25/25 [00:16<00:00,  1.54it/s]"
     ]
    },
    {
     "name": "stdout",
     "output_type": "stream",
     "text": [
      "baseline 64.2 16.5\n",
      "null-norm 76.2 3.9\n",
      "marg-norm 75.6 1.6\n",
      "unbiased 74.9 1.6\n",
      "optimal 79.8 1.9\n"
     ]
    },
    {
     "name": "stderr",
     "output_type": "stream",
     "text": [
      "\n"
     ]
    }
   ],
   "source": [
    "get_avg_acc_table('mrpc')"
   ]
  },
  {
   "cell_type": "code",
   "execution_count": 2,
   "metadata": {},
   "outputs": [
    {
     "name": "stderr",
     "output_type": "stream",
     "text": [
      "Found cached dataset snli (/home/al826/rds/hpc-work/envs/.cache/huggingface/datasets/snli/plain_text/1.0.0/1f60b67533b65ae0275561ff7828aad5ee4282d0e6f844fd148d05d3c6ea251b)\n",
      "100%|██████████████████████████████████████████████████████████████████| 3/3 [00:00<00:00, 17.19it/s]\n",
      "  0%|                                                                         | 0/64 [00:00<?, ?it/s]\n",
      "100%|████████████████████████████████████████████████████████████████| 1/1 [00:00<00:00, 2040.03it/s]\u001b[A\n",
      "100%|████████████████████████████████████████████████████████████████| 64/64 [08:15<00:00,  7.74s/it]\n",
      "  0%|                                                                         | 0/64 [00:00<?, ?it/s]\n",
      "100%|█████████████████████████████████████████████████████████████████| 1/1 [00:00<00:00, 741.04it/s]\u001b[A\n",
      "100%|████████████████████████████████████████████████████████████████| 64/64 [08:13<00:00,  7.72s/it]\n",
      "  0%|                                                                         | 0/64 [00:00<?, ?it/s]\n",
      "100%|████████████████████████████████████████████████████████████████| 1/1 [00:00<00:00, 2341.88it/s]\u001b[A\n",
      "100%|████████████████████████████████████████████████████████████████| 64/64 [08:05<00:00,  7.58s/it]\n",
      "  0%|                                                                         | 0/64 [00:00<?, ?it/s]\n",
      "100%|█████████████████████████████████████████████████████████████████| 1/1 [00:00<00:00, 633.10it/s]\u001b[A\n",
      "100%|████████████████████████████████████████████████████████████████| 64/64 [08:17<00:00,  7.77s/it]\n",
      "  0%|                                                                         | 0/64 [00:00<?, ?it/s]\n",
      "100%|████████████████████████████████████████████████████████████████| 1/1 [00:00<00:00, 1868.29it/s]\u001b[A\n",
      "100%|████████████████████████████████████████████████████████████████| 64/64 [08:12<00:00,  7.70s/it]\n",
      "  0%|                                                                         | 0/64 [00:00<?, ?it/s]\n",
      "100%|█████████████████████████████████████████████████████████████████| 1/1 [00:00<00:00, 623.32it/s]\u001b[A\n",
      "100%|████████████████████████████████████████████████████████████████| 64/64 [08:17<00:00,  7.77s/it]"
     ]
    },
    {
     "name": "stdout",
     "output_type": "stream",
     "text": [
      "baseline 45.2 13.7\n",
      "null-norm 75.2 10.4\n",
      "marg-norm 77.9 9.5\n",
      "unbiased 78.5 9.3\n",
      "optimal 79.4 8.0\n"
     ]
    },
    {
     "name": "stderr",
     "output_type": "stream",
     "text": [
      "\n"
     ]
    }
   ],
   "source": [
    "get_avg_acc_table('snli')"
   ]
  },
  {
   "cell_type": "code",
   "execution_count": 3,
   "metadata": {},
   "outputs": [
    {
     "name": "stderr",
     "output_type": "stream",
     "text": [
      "Found cached dataset glue (/home/al826/rds/hpc-work/envs/.cache/huggingface/datasets/glue/mnli/1.0.0/dacbe3125aa31d7f70367a07a8a9e72a5a0bfeb5fc42e75c9db75b96da6053ad)\n",
      "100%|██████████████████████████████████████████████████████████████████| 5/5 [00:00<00:00,  6.19it/s]\n",
      "  0%|                                                                         | 0/64 [00:00<?, ?it/s]\n",
      "100%|█████████████████████████████████████████████████████████████████| 1/1 [00:00<00:00, 730.71it/s]\u001b[A\n",
      "100%|████████████████████████████████████████████████████████████████| 64/64 [08:14<00:00,  7.72s/it]\n",
      "  0%|                                                                         | 0/64 [00:00<?, ?it/s]\n",
      "100%|█████████████████████████████████████████████████████████████████| 1/1 [00:00<00:00, 640.94it/s]\u001b[A\n",
      "100%|████████████████████████████████████████████████████████████████| 64/64 [08:11<00:00,  7.68s/it]\n",
      "  0%|                                                                         | 0/64 [00:00<?, ?it/s]\n",
      "100%|████████████████████████████████████████████████████████████████| 1/1 [00:00<00:00, 1918.71it/s]\u001b[A\n",
      "100%|████████████████████████████████████████████████████████████████| 64/64 [08:15<00:00,  7.74s/it]\n",
      "  0%|                                                                         | 0/64 [00:00<?, ?it/s]\n",
      "100%|████████████████████████████████████████████████████████████████| 1/1 [00:00<00:00, 2582.70it/s]\u001b[A\n",
      "100%|████████████████████████████████████████████████████████████████| 64/64 [08:09<00:00,  7.65s/it]\n",
      "  0%|                                                                         | 0/64 [00:00<?, ?it/s]\n",
      "100%|█████████████████████████████████████████████████████████████████| 1/1 [00:00<00:00, 987.59it/s]\u001b[A\n",
      "100%|████████████████████████████████████████████████████████████████| 64/64 [08:16<00:00,  7.76s/it]\n",
      "  0%|                                                                         | 0/64 [00:00<?, ?it/s]\n",
      "100%|████████████████████████████████████████████████████████████████| 1/1 [00:00<00:00, 2284.48it/s]\u001b[A\n",
      "100%|████████████████████████████████████████████████████████████████| 64/64 [08:10<00:00,  7.67s/it]"
     ]
    },
    {
     "name": "stdout",
     "output_type": "stream",
     "text": [
      "baseline 43.5 11.3\n",
      "null-norm 66.1 9.7\n",
      "marg-norm 69.8 9.4\n",
      "unbiased 69.8 9.7\n",
      "optimal 70.8 8.4\n"
     ]
    },
    {
     "name": "stderr",
     "output_type": "stream",
     "text": [
      "\n"
     ]
    }
   ],
   "source": [
    "get_avg_acc_table('mnli')"
   ]
  },
  {
   "cell_type": "code",
   "execution_count": 17,
   "metadata": {},
   "outputs": [
    {
     "name": "stderr",
     "output_type": "stream",
     "text": [
      "Found cached dataset glue (/home/al826/rds/hpc-work/envs/.cache/huggingface/datasets/glue/mrpc/1.0.0/dacbe3125aa31d7f70367a07a8a9e72a5a0bfeb5fc42e75c9db75b96da6053ad)\n",
      "100%|██████████████████████████████████████████████████████████████████| 3/3 [00:00<00:00, 12.89it/s]\n",
      "  0%|                                                                         | 0/25 [00:00<?, ?it/s]\n",
      "100%|████████████████████████████████████████████████████████████████| 1/1 [00:00<00:00, 1636.48it/s]\u001b[A\n",
      "100%|████████████████████████████████████████████████████████████████| 25/25 [00:18<00:00,  1.32it/s]\n",
      "  0%|                                                                         | 0/25 [00:00<?, ?it/s]\n",
      "100%|█████████████████████████████████████████████████████████████████| 1/1 [00:00<00:00, 724.91it/s]\u001b[A\n",
      "100%|████████████████████████████████████████████████████████████████| 25/25 [00:16<00:00,  1.52it/s]\n",
      "  0%|                                                                         | 0/25 [00:00<?, ?it/s]\n",
      "100%|█████████████████████████████████████████████████████████████████| 1/1 [00:00<00:00, 740.39it/s]\u001b[A\n",
      "100%|████████████████████████████████████████████████████████████████| 25/25 [00:16<00:00,  1.53it/s]\n",
      "  0%|                                                                         | 0/25 [00:00<?, ?it/s]\n",
      "100%|████████████████████████████████████████████████████████████████| 1/1 [00:00<00:00, 1807.89it/s]\u001b[A\n",
      "100%|████████████████████████████████████████████████████████████████| 25/25 [00:16<00:00,  1.51it/s]\n",
      "  0%|                                                                         | 0/25 [00:00<?, ?it/s]\n",
      "100%|█████████████████████████████████████████████████████████████████| 1/1 [00:00<00:00, 681.89it/s]\u001b[A\n",
      "100%|████████████████████████████████████████████████████████████████| 25/25 [00:17<00:00,  1.45it/s]\n",
      "  0%|                                                                         | 0/25 [00:00<?, ?it/s]\n",
      "100%|█████████████████████████████████████████████████████████████████| 1/1 [00:00<00:00, 741.57it/s]\u001b[A\n",
      "100%|████████████████████████████████████████████████████████████████| 25/25 [00:15<00:00,  1.56it/s]"
     ]
    },
    {
     "name": "stdout",
     "output_type": "stream",
     "text": [
      "baseline 35.8 16.5\n",
      "null-norm 23.8 3.9\n",
      "marg-norm 24.4 1.6\n",
      "unbiased 25.1 1.6\n",
      "optimal 66.5 0.2\n"
     ]
    },
    {
     "name": "stderr",
     "output_type": "stream",
     "text": [
      "\n"
     ]
    }
   ],
   "source": [
    "get_avg_acc_table('mrpc')"
   ]
  },
  {
   "cell_type": "code",
   "execution_count": 4,
   "metadata": {},
   "outputs": [
    {
     "name": "stderr",
     "output_type": "stream",
     "text": [
      "Found cached dataset rotten_tomatoes (/home/al826/rds/hpc-work/envs/.cache/huggingface/datasets/rotten_tomatoes/default/1.0.0/40d411e45a6ce3484deed7cc15b82a53dad9a72aafd9f86f8f227134bec5ca46)\n",
      "100%|██████████████████████████████████████████████████████████████████| 3/3 [00:01<00:00,  2.58it/s]\n",
      "  0%|                                                                         | 0/25 [00:00<?, ?it/s]\n",
      "100%|█████████████████████████████████████████████████████████████████| 1/1 [00:00<00:00, 761.49it/s]\u001b[A\n",
      "100%|████████████████████████████████████████████████████████████████| 25/25 [00:14<00:00,  1.72it/s]\n",
      "  0%|                                                                         | 0/25 [00:00<?, ?it/s]\n",
      "100%|████████████████████████████████████████████████████████████████| 1/1 [00:00<00:00, 1529.65it/s]\u001b[A\n",
      "100%|████████████████████████████████████████████████████████████████| 25/25 [00:12<00:00,  1.93it/s]\n",
      "  0%|                                                                         | 0/25 [00:00<?, ?it/s]\n",
      "100%|█████████████████████████████████████████████████████████████████| 1/1 [00:00<00:00, 910.62it/s]\u001b[A\n",
      "100%|████████████████████████████████████████████████████████████████| 25/25 [00:13<00:00,  1.92it/s]\n",
      "  0%|                                                                         | 0/25 [00:00<?, ?it/s]\n",
      "100%|█████████████████████████████████████████████████████████████████| 1/1 [00:00<00:00, 532.27it/s]\u001b[A\n",
      "100%|████████████████████████████████████████████████████████████████| 25/25 [00:13<00:00,  1.90it/s]\n",
      "  0%|                                                                         | 0/25 [00:00<?, ?it/s]\n",
      "100%|████████████████████████████████████████████████████████████████| 1/1 [00:00<00:00, 2618.17it/s]\u001b[A\n",
      "100%|████████████████████████████████████████████████████████████████| 25/25 [00:13<00:00,  1.90it/s]\n",
      "  0%|                                                                         | 0/25 [00:00<?, ?it/s]\n",
      "100%|████████████████████████████████████████████████████████████████| 1/1 [00:00<00:00, 2218.03it/s]\u001b[A\n",
      "100%|████████████████████████████████████████████████████████████████| 25/25 [00:13<00:00,  1.90it/s]"
     ]
    },
    {
     "name": "stdout",
     "output_type": "stream",
     "text": [
      "baseline 78.8 14.0\n",
      "null-norm 89.1 3.8\n",
      "marg-norm 90.9 1.6\n",
      "unbiased 90.9 1.6\n",
      "optimal 91.2 1.5\n"
     ]
    },
    {
     "name": "stderr",
     "output_type": "stream",
     "text": [
      "\n"
     ]
    }
   ],
   "source": [
    "get_avg_acc_table('rt')"
   ]
  },
  {
   "cell_type": "code",
   "execution_count": 5,
   "metadata": {},
   "outputs": [
    {
     "name": "stderr",
     "output_type": "stream",
     "text": [
      "  0%|                                                                         | 0/25 [00:00<?, ?it/s]\n",
      "100%|████████████████████████████████████████████████████████████████| 1/1 [00:00<00:00, 1206.99it/s]\u001b[A\n",
      "100%|████████████████████████████████████████████████████████████████| 25/25 [00:13<00:00,  1.92it/s]\n",
      "  0%|                                                                         | 0/25 [00:00<?, ?it/s]\n",
      "100%|████████████████████████████████████████████████████████████████| 1/1 [00:00<00:00, 1670.37it/s]\u001b[A\n",
      "100%|████████████████████████████████████████████████████████████████| 25/25 [00:14<00:00,  1.68it/s]\n",
      "  0%|                                                                         | 0/25 [00:00<?, ?it/s]\n",
      "100%|█████████████████████████████████████████████████████████████████| 1/1 [00:00<00:00, 952.17it/s]\u001b[A\n",
      "100%|████████████████████████████████████████████████████████████████| 25/25 [00:13<00:00,  1.83it/s]\n",
      "  0%|                                                                         | 0/25 [00:00<?, ?it/s]\n",
      "100%|████████████████████████████████████████████████████████████████| 1/1 [00:00<00:00, 1904.77it/s]\u001b[A\n",
      "100%|████████████████████████████████████████████████████████████████| 25/25 [00:13<00:00,  1.80it/s]\n",
      "  0%|                                                                         | 0/25 [00:00<?, ?it/s]\n",
      "100%|████████████████████████████████████████████████████████████████| 1/1 [00:00<00:00, 2285.72it/s]\u001b[A\n",
      "100%|████████████████████████████████████████████████████████████████| 25/25 [00:13<00:00,  1.83it/s]\n",
      "  0%|                                                                         | 0/25 [00:00<?, ?it/s]\n",
      "100%|█████████████████████████████████████████████████████████████████| 1/1 [00:00<00:00, 963.10it/s]\u001b[A\n",
      "100%|████████████████████████████████████████████████████████████████| 25/25 [00:24<00:00,  1.02it/s]\n"
     ]
    }
   ],
   "source": [
    "from logits_reader import LogitsReader\n",
    "\n",
    "dataset = 'rt'\n",
    "base_path = f\"/home/al826/rds/hpc-work/2023/prompts/calib/search/submit/outputs/flan-t5-large\"\n",
    "\n",
    "all_prompt_outputs = []\n",
    "for prompt_num in range(0,6):\n",
    "    path = f\"{base_path}/{dataset}/prompt_{prompt_num}\"\n",
    "    logits_reader = LogitsReader(path=path, dataset=dataset)\n",
    "    prompt_outputs = logits_reader.label_words_box_plot_data(prompt_num=prompt_num)\n",
    "    all_prompt_outputs += prompt_outputs\n"
   ]
  },
  {
   "cell_type": "code",
   "execution_count": 6,
   "metadata": {},
   "outputs": [
    {
     "name": "stdout",
     "output_type": "stream",
     "text": [
      "baseline 78.8 14.0\n",
      "null-norm 89.1 3.8\n",
      "marg-norm 90.9 1.6\n",
      "unbiased 90.9 1.6\n",
      "optimal 91.2 1.5\n"
     ]
    }
   ],
   "source": [
    "from collections import defaultdict\n",
    "import numpy as np\n",
    "\n",
    "methods = defaultdict(list)\n",
    "\n",
    "for ex in all_prompt_outputs:\n",
    "    methods[ex['probs']].append(ex['acc'])\n",
    "\n",
    "for k, v in methods.items():\n",
    "    print(k, round(np.mean(v), 1), round(np.std(v), 1))\n"
   ]
  },
  {
   "cell_type": "code",
   "execution_count": 7,
   "metadata": {},
   "outputs": [
    {
     "name": "stderr",
     "output_type": "stream",
     "text": [
      "Found cached dataset imdb (/home/al826/rds/hpc-work/envs/.cache/huggingface/datasets/imdb/plain_text/1.0.0/d613c88cf8fa3bab83b4ded3713f1f74830d1100e171db75bbddb80b3345c9c0)\n",
      "100%|██████████████████████████████████████████████████████████████████| 3/3 [00:00<00:00,  6.16it/s]\n",
      "  0%|                                                                         | 0/25 [00:00<?, ?it/s]\n",
      "100%|████████████████████████████████████████████████████████████████| 1/1 [00:00<00:00, 1392.99it/s]\u001b[A\n",
      "100%|████████████████████████████████████████████████████████████████| 25/25 [01:02<00:00,  2.48s/it]\n",
      "  0%|                                                                         | 0/25 [00:00<?, ?it/s]\n",
      "100%|████████████████████████████████████████████████████████████████| 1/1 [00:00<00:00, 1191.23it/s]\u001b[A\n",
      "100%|████████████████████████████████████████████████████████████████| 25/25 [01:01<00:00,  2.46s/it]\n",
      "  0%|                                                                         | 0/25 [00:00<?, ?it/s]\n",
      "100%|████████████████████████████████████████████████████████████████| 1/1 [00:00<00:00, 1977.51it/s]\u001b[A\n",
      "100%|████████████████████████████████████████████████████████████████| 25/25 [00:59<00:00,  2.39s/it]\n",
      "  0%|                                                                         | 0/25 [00:00<?, ?it/s]\n",
      "100%|█████████████████████████████████████████████████████████████████| 1/1 [00:00<00:00, 761.77it/s]\u001b[A\n",
      "100%|████████████████████████████████████████████████████████████████| 25/25 [01:03<00:00,  2.55s/it]\n",
      "  0%|                                                                         | 0/25 [00:00<?, ?it/s]\n",
      "100%|████████████████████████████████████████████████████████████████| 1/1 [00:00<00:00, 2088.80it/s]\u001b[A\n",
      "100%|████████████████████████████████████████████████████████████████| 25/25 [01:03<00:00,  2.55s/it]\n",
      "  0%|                                                                         | 0/25 [00:00<?, ?it/s]\n",
      "100%|█████████████████████████████████████████████████████████████████| 1/1 [00:00<00:00, 615.45it/s]\u001b[A\n",
      "100%|████████████████████████████████████████████████████████████████| 25/25 [01:00<00:00,  2.43s/it]\n"
     ]
    }
   ],
   "source": [
    "from logits_reader import LogitsReader\n",
    "\n",
    "dataset = 'imdb'\n",
    "base_path = f\"/home/al826/rds/hpc-work/2023/prompts/calib/search/submit/outputs/flan-t5-large\"\n",
    "\n",
    "\n",
    "all_prompt_outputs = []\n",
    "for prompt_num in range(0,6):\n",
    "    path = f\"{base_path}/{dataset}/prompt_{prompt_num}\"\n",
    "    logits_reader = LogitsReader(path=path, dataset=dataset)\n",
    "    prompt_outputs = logits_reader.label_words_box_plot_data(prompt_num=prompt_num)\n",
    "    all_prompt_outputs += prompt_outputs\n"
   ]
  },
  {
   "cell_type": "code",
   "execution_count": 8,
   "metadata": {},
   "outputs": [
    {
     "name": "stdout",
     "output_type": "stream",
     "text": [
      "baseline 85.4 12.7\n",
      "null-norm 92.1 3.2\n",
      "marg-norm 92.9 3.1\n",
      "unbiased 93.1 3.3\n",
      "optimal 93.5 2.7\n"
     ]
    }
   ],
   "source": [
    "from collections import defaultdict\n",
    "import numpy as np\n",
    "\n",
    "methods = defaultdict(list)\n",
    "\n",
    "for ex in all_prompt_outputs:\n",
    "    methods[ex['probs']].append(ex['acc'])\n",
    "\n",
    "for k, v in methods.items():\n",
    "    print(k, round(np.mean(v), 1), round(np.std(v), 1))\n"
   ]
  },
  {
   "cell_type": "code",
   "execution_count": 9,
   "metadata": {},
   "outputs": [
    {
     "name": "stderr",
     "output_type": "stream",
     "text": [
      "Using custom data configuration mteb--amazon_polarity-8b39b0161edeb0bb\n",
      "Found cached dataset json (/home/al826/rds/hpc-work/envs/.cache/huggingface/datasets/mteb___json/mteb--amazon_polarity-8b39b0161edeb0bb/0.0.0/0f7e3662623656454fcd2b650f34e886a7db4b9104504885bd462096cc7a9f51)\n",
      "100%|██████████████████████████████████████████████████████████████████| 2/2 [00:38<00:00, 19.30s/it]\n",
      "  0%|                                                                         | 0/25 [00:00<?, ?it/s]\n",
      "100%|█████████████████████████████████████████████████████████████████| 1/1 [00:00<00:00, 633.48it/s]\u001b[A\n",
      "100%|████████████████████████████████████████████████████████████████| 25/25 [00:24<00:00,  1.02it/s]\n",
      "  0%|                                                                         | 0/25 [00:00<?, ?it/s]\n",
      "100%|█████████████████████████████████████████████████████████████████| 1/1 [00:00<00:00, 691.79it/s]\u001b[A\n",
      "100%|████████████████████████████████████████████████████████████████| 25/25 [00:25<00:00,  1.01s/it]\n",
      "  0%|                                                                         | 0/25 [00:00<?, ?it/s]\n",
      "100%|█████████████████████████████████████████████████████████████████| 1/1 [00:00<00:00, 670.02it/s]\u001b[A\n",
      "100%|████████████████████████████████████████████████████████████████| 25/25 [00:24<00:00,  1.02it/s]\n",
      "  0%|                                                                         | 0/25 [00:00<?, ?it/s]\n",
      "100%|████████████████████████████████████████████████████████████████| 1/1 [00:00<00:00, 1497.97it/s]\u001b[A\n",
      "100%|████████████████████████████████████████████████████████████████| 25/25 [00:23<00:00,  1.07it/s]\n",
      "  0%|                                                                         | 0/25 [00:00<?, ?it/s]\n",
      "100%|█████████████████████████████████████████████████████████████████| 1/1 [00:00<00:00, 827.44it/s]\u001b[A\n",
      "100%|████████████████████████████████████████████████████████████████| 25/25 [00:23<00:00,  1.08it/s]\n",
      "  0%|                                                                         | 0/25 [00:00<?, ?it/s]\n",
      "100%|█████████████████████████████████████████████████████████████████| 1/1 [00:00<00:00, 620.55it/s]\u001b[A\n",
      "100%|████████████████████████████████████████████████████████████████| 25/25 [00:22<00:00,  1.09it/s]\n"
     ]
    }
   ],
   "source": [
    "from logits_reader import LogitsReader\n",
    "\n",
    "dataset = 'amazon-s'\n",
    "base_path = f\"/home/al826/rds/hpc-work/2023/prompts/calib/search/submit/outputs/flan-t5-large\"\n",
    "\n",
    "\n",
    "all_prompt_outputs = []\n",
    "for prompt_num in range(0,6):\n",
    "    path = f\"{base_path}/{dataset}/prompt_{prompt_num}\"\n",
    "    logits_reader = LogitsReader(path=path, dataset=dataset)\n",
    "    prompt_outputs = logits_reader.label_words_box_plot_data(prompt_num=prompt_num)\n",
    "    all_prompt_outputs += prompt_outputs\n"
   ]
  },
  {
   "cell_type": "code",
   "execution_count": 10,
   "metadata": {},
   "outputs": [
    {
     "name": "stdout",
     "output_type": "stream",
     "text": [
      "baseline 86.0 13.8\n",
      "null-norm 95.0 1.8\n",
      "marg-norm 95.9 0.7\n",
      "unbiased 96.0 0.8\n",
      "optimal 96.1 0.7\n"
     ]
    }
   ],
   "source": [
    "from collections import defaultdict\n",
    "import numpy as np\n",
    "\n",
    "methods = defaultdict(list)\n",
    "\n",
    "for ex in all_prompt_outputs:\n",
    "    methods[ex['probs']].append(ex['acc'])\n",
    "\n",
    "for k, v in methods.items():\n",
    "    print(k, round(np.mean(v), 1), round(np.std(v), 1))\n"
   ]
  },
  {
   "cell_type": "code",
   "execution_count": 11,
   "metadata": {},
   "outputs": [
    {
     "name": "stdout",
     "output_type": "stream",
     "text": [
      "0\n"
     ]
    },
    {
     "name": "stderr",
     "output_type": "stream",
     "text": [
      "  0%|                                                                         | 0/64 [00:00<?, ?it/s]\n",
      "100%|█████████████████████████████████████████████████████████████████| 1/1 [00:00<00:00, 761.91it/s]\u001b[A\n",
      "100%|████████████████████████████████████████████████████████████████| 64/64 [08:29<00:00,  7.96s/it]\n"
     ]
    },
    {
     "name": "stdout",
     "output_type": "stream",
     "text": [
      "1\n"
     ]
    },
    {
     "name": "stderr",
     "output_type": "stream",
     "text": [
      "  0%|                                                                         | 0/64 [00:00<?, ?it/s]\n",
      "100%|████████████████████████████████████████████████████████████████| 1/1 [00:00<00:00, 1231.45it/s]\u001b[A\n",
      "100%|████████████████████████████████████████████████████████████████| 64/64 [08:23<00:00,  7.87s/it]\n"
     ]
    },
    {
     "name": "stdout",
     "output_type": "stream",
     "text": [
      "2\n"
     ]
    },
    {
     "name": "stderr",
     "output_type": "stream",
     "text": [
      "  0%|                                                                         | 0/64 [00:00<?, ?it/s]\n",
      "100%|████████████████████████████████████████████████████████████████| 1/1 [00:00<00:00, 2473.06it/s]\u001b[A\n",
      "100%|████████████████████████████████████████████████████████████████| 64/64 [08:25<00:00,  7.90s/it]\n"
     ]
    },
    {
     "name": "stdout",
     "output_type": "stream",
     "text": [
      "3\n"
     ]
    },
    {
     "name": "stderr",
     "output_type": "stream",
     "text": [
      "  0%|                                                                         | 0/64 [00:00<?, ?it/s]\n",
      "100%|█████████████████████████████████████████████████████████████████| 1/1 [00:00<00:00, 582.30it/s]\u001b[A\n",
      "100%|████████████████████████████████████████████████████████████████| 64/64 [08:26<00:00,  7.91s/it]\n"
     ]
    },
    {
     "name": "stdout",
     "output_type": "stream",
     "text": [
      "4\n"
     ]
    },
    {
     "name": "stderr",
     "output_type": "stream",
     "text": [
      "  0%|                                                                         | 0/64 [00:00<?, ?it/s]\n",
      "100%|████████████████████████████████████████████████████████████████| 1/1 [00:00<00:00, 1833.98it/s]\u001b[A\n",
      "100%|████████████████████████████████████████████████████████████████| 64/64 [08:28<00:00,  7.94s/it]\n"
     ]
    },
    {
     "name": "stdout",
     "output_type": "stream",
     "text": [
      "5\n"
     ]
    },
    {
     "name": "stderr",
     "output_type": "stream",
     "text": [
      "  0%|                                                                         | 0/64 [00:00<?, ?it/s]\n",
      "100%|████████████████████████████████████████████████████████████████| 1/1 [00:00<00:00, 1211.18it/s]\u001b[A\n",
      "100%|████████████████████████████████████████████████████████████████| 64/64 [08:28<00:00,  7.95s/it]\n"
     ]
    }
   ],
   "source": [
    "from logits_reader import LogitsReader\n",
    "\n",
    "dataset = 'snli'\n",
    "base_path = f\"/home/al826/rds/hpc-work/2023/prompts/calib/search/submit/outputs/flan-t5-large\"\n",
    "\n",
    "all_prompt_outputs = []\n",
    "for prompt_num in range(0,6):\n",
    "    print(prompt_num)\n",
    "    path = f\"{base_path}/{dataset}/prompt_{prompt_num}\"\n",
    "    logits_reader = LogitsReader(path=path, dataset=dataset)\n",
    "    prompt_outputs = logits_reader.label_words_box_plot_data(prompt_num=prompt_num)\n",
    "    all_prompt_outputs += prompt_outputs\n"
   ]
  },
  {
   "cell_type": "code",
   "execution_count": 12,
   "metadata": {},
   "outputs": [
    {
     "name": "stdout",
     "output_type": "stream",
     "text": [
      "baseline 45.2 13.7\n",
      "null-norm 75.2 10.4\n",
      "marg-norm 77.9 9.5\n",
      "unbiased 78.5 9.3\n",
      "optimal 79.4 8.0\n"
     ]
    }
   ],
   "source": [
    "from collections import defaultdict\n",
    "import numpy as np\n",
    "\n",
    "methods = defaultdict(list)\n",
    "\n",
    "for ex in all_prompt_outputs:\n",
    "    methods[ex['probs']].append(ex['acc'])\n",
    "\n",
    "for k, v in methods.items():\n",
    "    print(k, round(np.mean(v), 1), round(np.std(v), 1))\n"
   ]
  },
  {
   "cell_type": "markdown",
   "metadata": {},
   "source": [
    "### DEMO SCRIPT IN CASE"
   ]
  },
  {
   "cell_type": "code",
   "execution_count": 13,
   "metadata": {},
   "outputs": [],
   "source": [
    "# from logits_reader import LogitsReader\n",
    "\n",
    "# dataset = 'mnli'\n",
    "# base_path = f\"/home/al826/rds/hpc-work/2023/prompts/calib/search/submit/outputs/flan-t5-large\"\n",
    "\n",
    "# all_prompt_outputs = []\n",
    "# for prompt_num in range(0,6): \n",
    "#     path = f\"{base_path}/{dataset}/prompt_{prompt_num}\"\n",
    "#     logits_reader = LogitsReader(path=path, dataset=dataset)\n",
    "#     prompt_outputs = logits_reader.label_words_box_plot_data(prompt_num=prompt_num)\n",
    "#     all_prompt_outputs += prompt_outputs\n"
   ]
  },
  {
   "cell_type": "code",
   "execution_count": 14,
   "metadata": {},
   "outputs": [],
   "source": [
    "# from collections import defaultdict\n",
    "# import numpy as np\n",
    "\n",
    "# methods = defaultdict(list)\n",
    "\n",
    "# for ex in all_prompt_outputs:\n",
    "#     methods[ex['probs']].append(ex['acc'])\n",
    "\n",
    "# for k, v in methods.items():\n",
    "#     print(k, round(np.mean(v), 1), round(np.std(v), 1))\n"
   ]
  },
  {
   "cell_type": "code",
   "execution_count": null,
   "metadata": {},
   "outputs": [],
   "source": []
  }
 ],
 "metadata": {
  "kernelspec": {
   "display_name": "torch1.12",
   "language": "python",
   "name": "torch1.12"
  },
  "language_info": {
   "codemirror_mode": {
    "name": "ipython",
    "version": 3
   },
   "file_extension": ".py",
   "mimetype": "text/x-python",
   "name": "python",
   "nbconvert_exporter": "python",
   "pygments_lexer": "ipython3",
   "version": "3.8.2"
  }
 },
 "nbformat": 4,
 "nbformat_minor": 4
}
